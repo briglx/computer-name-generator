{
 "cells": [
  {
   "cell_type": "code",
   "execution_count": 12,
   "metadata": {
    "collapsed": true
   },
   "outputs": [],
   "source": [
    "import random\n"
   ]
  },
  {
   "cell_type": "markdown",
   "metadata": {},
   "source": [
    "Fetch animal names from \n",
    "\n",
    "https://en.wikipedia.org/wiki/List_of_college_sports_team_nicknames\n",
    "\n",
    "Use jquery to quickly get names\n",
    c
    "    var itemList = \"\"\n",
    "    $(\".mw-headline\").each(function(e){ var str = $(this).text(); itemList += \"\\\"\" + str.substring(0, str.length - 1) +\"\\\",\" ;})`"
   ]
  },
  {
   "cell_type": "code",
   "execution_count": 2,
   "metadata": {
    "collapsed": true
   },
   "outputs": [],
   "source": [
    "locations = [\"hill\" \"ocean\", \"creek\", \"pasture\", \"island\", \"forest\", \"terminal\", \"villiage\", \"park\", \"cape\", \"peak\", \"down\", \"garden\", \"desert\", \"cave\", \"triangle\", \"gate\", \"yard\", \"rock\", \"harbor\", \"cove\", \"kettle\", \"lagoon\", \"loch\", \"sea\", \"bayou\", \"pool\", \"pond\", \"river\", \"spring\", \"brook\", \"creek\", \"wash\", \"bridge\", \"farm\", \"orchard\", \"pier\", \"port\", \"ranch\", \"road\", \"street\", \"resort\", \"tree\", \"wharf\", \"city\", \"town\", \"state\", ]"
   ]
  },
  {
   "cell_type": "markdown",
   "metadata": {},
   "source": [
    "Fetch prepositions from \n",
    "\n",
    "https://en.wikipedia.org/wiki/List_of_English_prepositions\n",
    "\n",
    "Use jquery to quickly get names\n",
    "\n",
    "    var itemList = \"\"\n",
    "    $(\"li > a\").each(function(e){  $(this).text();})`"
   ]
  },
  {
   "cell_type": "code",
   "execution_count": 4,
   "metadata": {
    "collapsed": true
   },
   "outputs": [],
   "source": [
    "prepositions = [\"top\", \"side\", \"bottom\"]\n",
    "prepositions_full = [\"a\", \"aboard\", \"about\", \"abt\", \"above\", \"abreast\", \"absent\", \"across\", \"after\", \"against\", \"along\", \"aloft\", \"alongside\", \"amid\", \"amidst\", \"mid\", \"midst\", \"among\", \"amongst\", \"anti\", \"apropos\", \"around\", \"round\", \"as\", \"aslant\", \"astride\", \"at\", \"@\", \"atop\", \"ontop\", \"bar\", \"barring\", \"before\", \"B4\", \"behind\", \"below\", \"beneath\", \"neath\", \"beside\", \"besides\", \"between\", \"'tween\", \"beyond\", \"but\", \"by\", \"chez\", \"circa\", \"c.\", \"ca.\", \"come\", \"concerning\", \"contra\", \"counting\", \"cum\", \"despite\", \"spite\", \"down\", \"during\", \"effective\", \"ere\", \"except\", \"excepting\", \"excluding\", \"failing\", \"following\", \"for\", \"4\", \"from\", \"in\", \"including\", \"inside\", \"into\", \"less\", \"like\", \"minus\", \"modulo\", \"mod\", \"near\", \"nearer\", \"nearest\", \"next\", \"notwithstanding\", \"of\", \"o'\", \"off\", \"offshore\", \"on\", \"onto\", \"opposite\", \"out\", \"outside\", \"over\", \"o'er\", \"pace\", \"past\", \"pending\", \"per\", \"plus\", \"post\", \"pre\", \"pro\", \"qua\", \"re\", \"regarding\", \"respecting\", \"sans\", \"save\", \"saving\", \"short\", \"since\", \"sub\", \"than\", \"through\", \"thru\", \"throughout\", \"thruout\", \"till\", \"times\", \"to\", \"t'\", \"2\", \"touching\", \"toward\", \"towards\", \"under\", \"underneath\", \"unlike\", \"until\", \"unto\", \"up\", \"upon\", \"versus\", \"vs.\", \"v.\", \"via\", \"vice\", \"vis-à-vis\", \"wanting\", \"with\", \"w/\", \"w.\", \"c̄\", \"within\", \"w/i\", \"without\", \"'thout\", \"w/o\", \"abroad\", \"adrift\", \"aft\", \"afterward(s)\", \"ahead\", \"apart\", \"ashore\", \"aside\", \"away\", \"back\", \"backward(s)\", \"beforehand\", \"downhill\", \"downstage\", \"downstairs\", \"downstream\", \"downward(s)\", \"downwind\", \"east\", \"eastward(s)\", \"forth\", \"forward(s)\", \"heavenward(s)\", \"hence\", \"henceforth\", \"here\", \"hereby\", \"herein\", \"hereof\", \"hereto\", \"herewith\", \"home\", \"homeward(s)\", \"indoors\", \"inward(s)\", \"leftward(s)\", \"north\", \"northeast\", \"northward(s)\", \"northwest\", \"now\", \"onward(s)\", \"outdoors\", \"outward(s)\", \"overboard\", \"overhead\", \"overland\", \"overseas\", \"rightward(s)\", \"seaward(s)\", \"skyward(s)\", \"south\", \"southeast\", \"southward(s)\", \"southwest\", \"then\", \"thence\", \"thenceforth\", \"there\", \"thereby\", \"therein\", \"thereof\", \"thereto\", \"therewith\", \"together\", \"underfoot\", \"underground\", \"uphill\", \"upstage\", \"upstairs\", \"upstream\", \"upward(s)\", \"upwind\", \"west\", \"westward(s)\", \"when\", \"whence\", \"where\", \"whereby\", \"wherein\", \"whereto\", \"wherewith\", \"after\", \"although\", \"as\", \"at\", \"because\", \"before\", \"beside\", \"besides\", \"between\", \"by\", \"considering\", \"despite\", \"except\", \"for\", \"from\", \"given\", \"granted\", \"if\", \"into\", \"lest\", \"like\", \"notwithstanding\", \"now\", \"of\", \"on\", \"once\", \"provided\", \"providing\", \"save\", \"seeing\", \"since\", \"so\", \"supposing\", \"than\", \"though\", \"till\", \"to\", \"unless\", \"until\", \"upon\", \"when\", \"whenever\", \"where\", \"whereas\", \"wherever\", \"while\", \"whilst\", \"with\", \"without\", \"ago\", \"apart\", \"aside\", \"aslant\", \"away\", \"hence\", \"notwithstanding\", \"on\", \"over\", \"short\", \"through\", \"according to\", \"across from\", \"ahead of\", \"along with\", \"apart from\", \"as for\", \"as from\", \"as of\", \"as per\", \"as regards\", \"as to\", \"aside from\", \"away from\", \"back to\", \"because of\", \"counter to\", \"except for\", \"in between\", \"instead of\", \"near to\", \"next to\", \"opposite of\", \"out from\", \"out of\", \"outside of\", \"owing to\", \"pertaining to\", \"round about\", \"up against\", \"up to\", \"at the behest of\", \"at the expense of\", \"at the hands of\", \"at (the) risk of\", \"at variance with\", \"by dint of\", \"by means of\", \"by virtue of\", \"by way of\", \"for (the) sake of\", \"for lack of\", \"for/from want of\", \"in accordance with\", \"in addition to\", \"in case of\", \"in charge of\", \"in compliance with\", \"in conformity with\", \"in contact with\", \"in exchange for\", \"in favor of\", \"in front of\", \"in lieu of\", \"in (the) light of\", \"in line with\", \"in place of\", \"in point of\", \"in quest of\", \"in relation to\", \"in/with regard to\", \"in/with respect to\", \"in return for\", \"in search of\", \"in spite of\", \"in step with\", \"in touch with\", \"in terms of\", \"in the name of\", \"in view of\", \"on account of\", \"on behalf of\", \"on (the) grounds of\", \"on the part of\", \"on top of\", \"with a view to\", \"with the exception of\", \"à la\", \"as soon as\", \"as well as\", \"close to\", \"due to\", \"far from\", \"in case\", \"other than\", \"per pro\", \"prior to\", \"pursuant to\", \"rather than\", \"regardless of\", \"subsequent to\", \"such as\", \"abaft\", \"abating\", \"abeam\", \"ablow\", \"aboon\", \"abouts\", \"acrost\", \"adown\", \"a-eastell\", \"afore\", \"afornent\", \"afront\", \"afterhand\", \"again\", \"ahind\", \"ajax\", \"Polari\", \"alength\", \"alongst\", \"aloof\", \"alow\", \"amell\", \"amidmost\", \"anear\", \"aneath\", \"anent\", \"anewst\", \"anunder\", \"askant\", \"asklent\", \"astern\", \"athwart\", \"atour\", \"atter\", \"atween\", \"atwixt\", \"a-weather\", \"a-west\", \"awestell\", \"ayond\", \"ayont\", \"bating\", \"bedown\", \"be-east\", \"beforrow\", \"behither\", \"ben\", \"benorth\", \"besouth\", \"betwixt\", \"'twixt\", \"bewest\", \"bongre\", \"bout\", \"bove\", \"'cept\", \"contrair\", \"contrary\", \"cross\", \"dehors\", \"dot\", \"durante\", \"effore\", \"emong\", \"emonges(t)\", \"endlong\", \"endlonges\", \"endlongs\", \"enduring\", \"ensuing\", \"even-forth\", \"ex\", \"excepted\", \"extra\", \"fae\", \"forby(e)\", \"fore\", \"fornent\", \"fornenst\", \"foregain\", \"foregains\", \"foregainst\", \"forne\", \"forout\", \"forouten\", \"forrow\", \"forth\", \"fro\", \"fromward\", \"fromwards\", \"froward\", \"furth\", \"gain\", \"gainst\", \"gainward\", \"gin\", \"half-way\", \"halfway\", \"hent\", \"inboard\", \"incontrair\", \"indurand\", \"inmid\", \"inmiddes\", \"inter\", \"inthrough\", \"intil\", \"intill\", \"inwith\", \"i'th'\", \"'long\", \"longs\", \"longst\", \"longways\", \"malgrado\", \"malgré\", \"mang\", \"maugre\", \"midmost\", \"mids\", \"midward\", \"midway\", \"'mong\", \"'mongst\", \"more\", \"moreover\", \"moyening\", \"natheless\", \"nathless\", \"nearabout\", \"nearbout\", \"nearby\", \"nearhand\", \"'neath\", \"nigh\", \"anigh\", \"anighst\", \"nigh-hand\", \"nobbut\", \"non-obstant\", \"notwithstand\", \"noughtwithstanding\", \"offa\", \"offen\", \"only\", \"or\", \"otherside\", \"outcept\", \"outen\", \"out-over\", \"outta\", \"out-taken\", \"out-taking\", \"out-through\", \"outwith\", \"overcross\", \"over-right\", \"overthorter\", \"overthwart\", \"overtop\", \"pan\", \"pass\", \"pon\", \"quoad\", \"reserved\", \"reserving\", \"sauf\", \"seen\", \"sen\", \"senza\", \"side\", \"sidelings\", \"sidelong\", \"sides\", \"sin\", \"sineth\", \"sith\", \"sithen\", \"sithence\", \"ter\", \"thorough\", \"thorter\", \"thwart\", \"thwart-over\", \"tiv\", \"touchant\", \"transverse\", \"traverse\", \"twel(l)\", \"twill\", \"ultra\", \"umbe\", \"unneath\", \"upo’\", \"upside\", \"upsy\", \"upsees\", \"uptill\", \"utouth\", \"wid\", \"withinside\", \"withoutside\", \"wiv\", \"ymong\", \"yond\", \"yonside\", \"aground\", \"bush\", \"hereat\", \"herefrom\", \"hereon\", \"hither\", \"thereat\", \"therefrom\", \"thereon\", \"thither\", \"whereat\", \"wherefrom\", \"whereof\", \"whereon\", \"whither\", \"yonder\", \"but\", \"withal\", \"at after\", \"down on\", \"ex relatione\", \"hard by\", \"inside of\", \"non obstante\", \"nigh by\", \"opposite to\"]"
   ]
  },
  {
   "cell_type": "code",
   "execution_count": 10,
   "metadata": {
    "collapsed": false
   },
   "outputs": [],
   "source": [
    "animals = [\"Aggie\",\"Anteater\",\"Antelope\",\"Armadillo\",\"Auggie\",\"Badger\",\"Bald Eagle\",\"Banana Slug\",\"Bearcat\",\"Bearkat\",\"Bear\",\"Beaver\",\"Bee\",\"Bengal\",\"Big Blu\",\"Bison\",\"Black Bear\",\"Blackbird\",\"Black Squirrel\",\"Bloodhound\",\"Blue Dragon\",\"Blue Hawk\",\"Blue Hen\",\"Blue Jay\",\"Blue Tiger\",\"Bluejay\",\"Bobcat\",\"Boll Weevil\",\"Broncho\",\"Bronco\",\"Bronc\",\"Bruin\",\"Buck\",\"Buffaloe\",\"Bulldog\",\"Bull\",\"Caiman\",\"Camel\",\"Cardinal\",\"Centaur\",\"Cobra\",\"Cougar\",\"Coyote\",\"Crimson Hawk\",\"Demon\",\"Devil\",\"Dino\",\"Dolphin\",\"Dragon\",\"Duck\",\"DustDevil\",\"Eagle\",\"Falcon\",\"Fighting Camel\",\"Fighting Hawk\",\"Fighting Tiger\",\"Fire Ant\",\"Firebird\",\"Frog\",\"Gator\",\"Gila Monster\",\"Golden Bear\",\"Golden Bull\",\"Golden Eagle\",\"Golden Gopher\",\"Golden Griffin\",\"Golden Grizzlie\",\"Golden Hawk\",\"Golden Lion\",\"Golden Ram\",\"Golden Seal\",\"Golden Tiger\",\"Gopher\",\"Gorilla\",\"Great Dane\",\"Greyhound\",\"Griffin\",\"Grizzlie\",\"Gull\",\"Gustie\",\"Harrier\",\"Hawkeye\",\"Hawk\",\"Heron\",\"Hillcat\",\"Horned Frog\",\"Hornet\",\"Humpback Whale\",\"Huskie\",\"Ice Dog\",\"Jackrabbit\",\"Jaguar\",\"Jasper\",\"Javelina\",\"Jayhawk\",\"Kangaroo\",\"Koala\",\"Lakehawk\",\"Lark\",\"Lemming\",\"Leopard\",\"Lion\",\"Lobo\",\"Longhorn\",\"Manatee\",\"Mastodon\",\"Moose\",\"Mountain Cat\",\"Mountain Lion\",\"Mudcat\",\"Mule\",\"Mustang\",\"Nighthawk\",\"Osprey\",\"Otter\",\"Owl\",\"Panda\",\"Panther\",\"Peacock\", \"Penguin\",\"Phoenix\",\"Platypus\",\"Polar bear\",\"Pony\",\"Prairie Dog\",\"Prairie Wolve\",\"Pronghorn\",\"Puma\",\"Ram\",\"Rattler\",\"Raven\",\"Razorback\",\"Redbird\",\"Red Dragon\",\"Red Hawk\",\"Ridgeback\",\"Roadrunner\",\"Sabercat\",\"Sailfish\",\"Samson\",\"Sand Shark\",\"Scorpion\",\"Scottish Terrier\",\"Seagull\",\"Seahawk\",\"Seahorse\",\"Sea Lion\",\"Shark\",\"Skyhawk\",\"Spider\",\"Squirrel\",\"Stag\",\"Stallion\",\"Steer\",\"Sugar Bear\",\"Sunbird\",\"Sun Devil\",\"Terrapin\",\"Terrier\",\"Thoroughbred\",\"Thunderbird\",\"Thunderduck\",\"Thunderhawk\",\"Tiger\",\"Timberwolve\",\"Tomcat\",\"Toro\",\"Troll\",\"Warhawk\",\"Wasp\",\"White Mule\",\"Wildcat\",\"Wolverine\",\"Wolve\",\"Wombat\",\"Wyvern\",\"Yellow Jacket\",\"Yote\"]"
   ]
  },
  {
   "cell_type": "code",
   "execution_count": 26,
   "metadata": {
    "collapsed": false
   },
   "outputs": [],
   "source": [
    "def nameGenerator():\n",
    "    name = random.choice(locations) + random.choice(prepositions) + \" \" + random.choice(animals)\n",
    "    return name"
   ]
  },
  {
   "cell_type": "code",
   "execution_count": 28,
   "metadata": {
    "collapsed": false
   },
   "outputs": [
    {
     "name": "stdout",
     "output_type": "stream",
     "text": [
      "rivertop Gustie\n",
      "capetop Longhorn\n",
      "riverbottom Golden Eagle\n",
      "desertside Blue Dragon\n",
      "farmtop Ice Dog\n",
      "downbottom Toro\n",
      "foresttop Rattler\n",
      "villiagetop Humpback Whale\n",
      "creek bottomside Samson\n",
      "kettleside Bearkat\n",
      "rockbottom Seahawk\n",
      "cavebottom Bearcat\n",
      "kettlebottom Warhawk\n",
      "springbottom Caiman\n",
      "creekside Bison\n",
      "statebottom Penguin\n",
      "harbortop Golden Lion\n",
      "seaside Blue Dragon\n",
      "pierbottom Kangaroo\n",
      "treeside Owl\n",
      "islandtop Leopard\n",
      "caveside Bulldog\n",
      "oceansideside Golden Tiger\n",
      "deserttop Eagle\n",
      "pastureside Golden Tiger\n",
      "villiagetop Bluejay\n",
      "poolside Hawk\n",
      "foresttop Grizzlie\n",
      "deserttop Falcon\n",
      "lochbottom Blue Jay\n"
     ]
    }
   ],
   "source": [
    "for _ in range(30):\n",
    "    print nameGenerator()"
   ]
  }
 ],
 "metadata": {
  "kernelspec": {
   "display_name": "Python 2",
   "language": "python",
   "name": "python2"
  },
  "language_info": {
   "codemirror_mode": {
    "name": "ipython",
    "version": 2
   },
   "file_extension": ".py",
   "mimetype": "text/x-python",
   "name": "python",
   "nbconvert_exporter": "python",
   "pygments_lexer": "ipython2",
   "version": "2.7.11"
  }
 },
 "nbformat": 4,
 "nbformat_minor": 0
}
