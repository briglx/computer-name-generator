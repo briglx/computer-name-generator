{
 "cells": [
  {
   "cell_type": "code",
   "execution_count": 12,
   "metadata": {
    "collapsed": true
   },
   "outputs": [],
   "source": [
    "import random\n"
   ]
  },
  {
   "cell_type": "markdown",
   "metadata": {},
   "source": [
    "Fetch animal names from \n",
    "\n",
    "https://en.wikipedia.org/wiki/List_of_college_sports_team_nicknames\n",
    "\n",
    "Use jquery to quickly get names\n",
    "\n",
    "    var itemList = \"\"\n",
    "    $(\".mw-headline\").each(function(e){ var str = $(this).text(); itemList += \"\\\"\" + str.substring(0, str.length - 1) +\"\\\",\" ;})`"
   ]
  },
  {
   "cell_type": "code",
   "execution_count": 2,
   "metadata": {
    "collapsed": true
   },
   "outputs": [],
   "source": [
    "locations = [\"hill\" \"ocean\", \"creek\", \"pasture\", \"island\", \"forest\", \"terminal\", \"villiage\", \"park\", \"cape\", \"peak\", \"down\", \"garden\", \"desert\", \"cave\", \"triangle\", \"gate\", \"yard\", \"rock\", \"harbor\", \"cove\", \"kettle\", \"lagoon\", \"loch\", \"sea\", \"bayou\", \"pool\", \"pond\", \"river\", \"spring\", \"brook\", \"creek\", \"wash\", \"bridge\", \"farm\", \"orchard\", \"pier\", \"port\", \"ranch\", \"road\", \"street\", \"resort\", \"tree\", \"wharf\", \"city\", \"town\", \"state\", ]"
   ]
  },
  {
   "cell_type": "code",
   "execution_count": 4,
   "metadata": {
    "collapsed": true
   },
   "outputs": [],
   "source": [
    "prepositions = [\"top\", \"side\", \"bottom\"]"
   ]
  },
  {
   "cell_type": "code",
   "execution_count": 10,
   "metadata": {
    "collapsed": false
   },
   "outputs": [],
   "source": [
    "animals = [\"Aggie\",\"Anteater\",\"Antelope\",\"Armadillo\",\"Auggie\",\"Badger\",\"Bald Eagle\",\"Banana Slug\",\"Bearcat\",\"Bearkat\",\"Bear\",\"Beaver\",\"Bee\",\"Bengal\",\"Big Blu\",\"Bison\",\"Black Bear\",\"Blackbird\",\"Black Squirrel\",\"Bloodhound\",\"Blue Dragon\",\"Blue Hawk\",\"Blue Hen\",\"Blue Jay\",\"Blue Tiger\",\"Bluejay\",\"Bobcat\",\"Boll Weevil\",\"Broncho\",\"Bronco\",\"Bronc\",\"Bruin\",\"Buck\",\"Buffaloe\",\"Bulldog\",\"Bull\",\"Caiman\",\"Camel\",\"Cardinal\",\"Centaur\",\"Cobra\",\"Cougar\",\"Coyote\",\"Crimson Hawk\",\"Demon\",\"Devil\",\"Dino\",\"Dolphin\",\"Dragon\",\"Duck\",\"DustDevil\",\"Eagle\",\"Falcon\",\"Fighting Camel\",\"Fighting Hawk\",\"Fighting Tiger\",\"Fire Ant\",\"Firebird\",\"Frog\",\"Gator\",\"Gila Monster\",\"Golden Bear\",\"Golden Bull\",\"Golden Eagle\",\"Golden Gopher\",\"Golden Griffin\",\"Golden Grizzlie\",\"Golden Hawk\",\"Golden Lion\",\"Golden Ram\",\"Golden Seal\",\"Golden Tiger\",\"Gopher\",\"Gorilla\",\"Great Dane\",\"Greyhound\",\"Griffin\",\"Grizzlie\",\"Gull\",\"Gustie\",\"Harrier\",\"Hawkeye\",\"Hawk\",\"Heron\",\"Hillcat\",\"Horned Frog\",\"Hornet\",\"Humpback Whale\",\"Huskie\",\"Ice Dog\",\"Jackrabbit\",\"Jaguar\",\"Jasper\",\"Javelina\",\"Jayhawk\",\"Kangaroo\",\"Koala\",\"Lakehawk\",\"Lark\",\"Lemming\",\"Leopard\",\"Lion\",\"Lobo\",\"Longhorn\",\"Manatee\",\"Mastodon\",\"Moose\",\"Mountain Cat\",\"Mountain Lion\",\"Mudcat\",\"Mule\",\"Mustang\",\"Nighthawk\",\"Osprey\",\"Otter\",\"Owl\",\"Panda\",\"Panther\",\"Peacock\", \"Penguin\",\"Phoenix\",\"Platypus\",\"Polar bear\",\"Pony\",\"Prairie Dog\",\"Prairie Wolve\",\"Pronghorn\",\"Puma\",\"Ram\",\"Rattler\",\"Raven\",\"Razorback\",\"Redbird\",\"Red Dragon\",\"Red Hawk\",\"Ridgeback\",\"Roadrunner\",\"Sabercat\",\"Sailfish\",\"Samson\",\"Sand Shark\",\"Scorpion\",\"Scottish Terrier\",\"Seagull\",\"Seahawk\",\"Seahorse\",\"Sea Lion\",\"Shark\",\"Skyhawk\",\"Spider\",\"Squirrel\",\"Stag\",\"Stallion\",\"Steer\",\"Sugar Bear\",\"Sunbird\",\"Sun Devil\",\"Terrapin\",\"Terrier\",\"Thoroughbred\",\"Thunderbird\",\"Thunderduck\",\"Thunderhawk\",\"Tiger\",\"Timberwolve\",\"Tomcat\",\"Toro\",\"Troll\",\"Warhawk\",\"Wasp\",\"White Mule\",\"Wildcat\",\"Wolverine\",\"Wolve\",\"Wombat\",\"Wyvern\",\"Yellow Jacket\",\"Yote\"]"
   ]
  },
  {
   "cell_type": "code",
   "execution_count": 26,
   "metadata": {
    "collapsed": false
   },
   "outputs": [],
   "source": [
    "def nameGenerator():\n",
    "    name = random.choice(locations) + random.choice(prepositions) + \" \" + random.choice(animals)\n",
    "    return name"
   ]
  },
  {
   "cell_type": "code",
   "execution_count": 28,
   "metadata": {
    "collapsed": false
   },
   "outputs": [
    {
     "name": "stdout",
     "output_type": "stream",
     "text": [
      "rivertop Gustie\n",
      "capetop Longhorn\n",
      "riverbottom Golden Eagle\n",
      "desertside Blue Dragon\n",
      "farmtop Ice Dog\n",
      "downbottom Toro\n",
      "foresttop Rattler\n",
      "villiagetop Humpback Whale\n",
      "creek bottomside Samson\n",
      "kettleside Bearkat\n",
      "rockbottom Seahawk\n",
      "cavebottom Bearcat\n",
      "kettlebottom Warhawk\n",
      "springbottom Caiman\n",
      "creekside Bison\n",
      "statebottom Penguin\n",
      "harbortop Golden Lion\n",
      "seaside Blue Dragon\n",
      "pierbottom Kangaroo\n",
      "treeside Owl\n",
      "islandtop Leopard\n",
      "caveside Bulldog\n",
      "oceansideside Golden Tiger\n",
      "deserttop Eagle\n",
      "pastureside Golden Tiger\n",
      "villiagetop Bluejay\n",
      "poolside Hawk\n",
      "foresttop Grizzlie\n",
      "deserttop Falcon\n",
      "lochbottom Blue Jay\n"
     ]
    }
   ],
   "source": [
    "for _ in range(30):\n",
    "    print nameGenerator()"
   ]
  }
 ],
 "metadata": {
  "kernelspec": {
   "display_name": "Python 2",
   "language": "python",
   "name": "python2"
  },
  "language_info": {
   "codemirror_mode": {
    "name": "ipython",
    "version": 2
   },
   "file_extension": ".py",
   "mimetype": "text/x-python",
   "name": "python",
   "nbconvert_exporter": "python",
   "pygments_lexer": "ipython2",
   "version": "2.7.11"
  }
 },
 "nbformat": 4,
 "nbformat_minor": 0
}
